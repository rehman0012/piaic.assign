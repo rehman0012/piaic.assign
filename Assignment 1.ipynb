{
 "cells": [
  {
   "cell_type": "code",
   "execution_count": 4,
   "id": "98b66465",
   "metadata": {},
   "outputs": [
    {
     "name": "stdout",
     "output_type": "stream",
     "text": [
      "Hello! everyone Sami Rehman here\n"
     ]
    }
   ],
   "source": [
    "# Variables and Strings\n",
    "message='Hello! everyone Sami Rehman here'\n",
    "print(message)"
   ]
  },
  {
   "cell_type": "code",
   "execution_count": 5,
   "id": "8f61c8dc",
   "metadata": {},
   "outputs": [
    {
     "name": "stdout",
     "output_type": "stream",
     "text": [
      "Brian Tracy once said, “It doesn't matter where you are coming from. All that matters is where you are\n",
      "going.”\n"
     ]
    }
   ],
   "source": [
    "Quote='''Brian Tracy once said, “It doesn't matter where you are coming from. All that matters is where you are\n",
    "going.”'''\n",
    "print(Quote)"
   ]
  },
  {
   "cell_type": "code",
   "execution_count": 11,
   "id": "63ee6541",
   "metadata": {},
   "outputs": [
    {
     "name": "stdout",
     "output_type": "stream",
     "text": [
      "Radius: 0.5\n",
      "Area of Circle with radius r =   0.785\n"
     ]
    }
   ],
   "source": [
    "r=float(input(\"Radius: \"))\n",
    "area_of_the_circle=3.14*r*r\n",
    "print(\"Area of Circle with radius r =  \",area_of_the_circle)"
   ]
  },
  {
   "cell_type": "code",
   "execution_count": 40,
   "id": "32030515",
   "metadata": {},
   "outputs": [
    {
     "name": "stdout",
     "output_type": "stream",
     "text": [
      "Enter number one: 0\n",
      "zero number entered \n"
     ]
    }
   ],
   "source": [
    "#Check Number either positive, negative or zero\n",
    "num=int(input('Enter number one: '))\n",
    "if num> 0:\n",
    "    print('positive number entered ')\n",
    "elif num<0:\n",
    "    print('negaitive number entered ')\n",
    "else:\n",
    "    print('zero number entered ')"
   ]
  },
  {
   "cell_type": "code",
   "execution_count": 12,
   "id": "51d28d24",
   "metadata": {},
   "outputs": [
    {
     "name": "stdout",
     "output_type": "stream",
     "text": [
      "Enter any Letter: N\n",
      "Letter N is not a vowel \n"
     ]
    }
   ],
   "source": [
    "ch=input('Enter any Letter: ')\n",
    "if ch=='A':\n",
    "    print('Letter A is a vowel ')\n",
    "elif ch=='e':\n",
    "    print('Letter e is a vowel ')\n",
    "elif ch=='N':\n",
    "    print('Letter N is not a vowel ')    "
   ]
  },
  {
   "cell_type": "code",
   "execution_count": 10,
   "id": "7dca3e2d",
   "metadata": {},
   "outputs": [
    {
     "name": "stdout",
     "output_type": "stream",
     "text": [
      "Radius: 0.5\n",
      "Area of Circle with radius r =   0.785\n"
     ]
    }
   ],
   "source": [
    "r=float(input(\"Radius: \"))\n",
    "area_of_the_circle=3.14*r*r\n",
    "print(\"Area of Circle with radius r =  \",area_of_the_circle)"
   ]
  },
  {
   "cell_type": "code",
   "execution_count": 17,
   "id": "dd054a95",
   "metadata": {},
   "outputs": [
    {
     "name": "stdout",
     "output_type": "stream",
     "text": [
      "ypur body mass is  23.148148148148145\n"
     ]
    }
   ],
   "source": [
    "h=180\n",
    "x=h/100\n",
    "y=x*x\n",
    "w=75\n",
    "BMI=w/y\n",
    "print('ypur body mass is ',BMI)"
   ]
  },
  {
   "cell_type": "code",
   "execution_count": 20,
   "id": "8d3ec816",
   "metadata": {},
   "outputs": [
    {
     "name": "stdout",
     "output_type": "stream",
     "text": [
      "['sami', 'rehman', 'anas', 'ahsan', 'nuha', 'sheza', 'zain', 'ahad', 'faiza', 'ali']\n",
      "hey! Welcome to our class ahsan\n"
     ]
    }
   ],
   "source": [
    "#LIST\n",
    "name=['sami','rehman','anas','ahsan','nuha','sheza','zain','ahad','faiza','ali']\n",
    "print(name)\n",
    "print('hey! Welcome to our class '+name[3])"
   ]
  },
  {
   "cell_type": "code",
   "execution_count": 27,
   "id": "ca320965",
   "metadata": {},
   "outputs": [
    {
     "name": "stdout",
     "output_type": "stream",
     "text": [
      "['karrahi', 'zinger', 'biryani']\n",
      "['chekin', 'beef', 'rice']\n",
      "['cold drink', 'coleslaw', 'qorma']\n"
     ]
    }
   ],
   "source": [
    "foods=['karrahi','zinger','biryani','chekin','beef','rice','cold drink','coleslaw','qorma']\n",
    "print(foods[:3])\n",
    "print(foods[3:6])\n",
    "print(foods[6:])"
   ]
  },
  {
   "cell_type": "code",
   "execution_count": 33,
   "id": "8bf0b03b",
   "metadata": {},
   "outputs": [
    {
     "name": "stdout",
     "output_type": "stream",
     "text": [
      "['karrahi', 'zinger', 'biryani', 'chekin', 'beef', 'rice', 'cold drink', 'coleslaw', 'qorma']\n",
      "['karrahi', 'zinger', 'biryani', 'chekin', 'beef', 'rice', 'cold drink', 'coleslaw', 'qorma', 'white qorma']\n"
     ]
    }
   ],
   "source": [
    "friends_foods=['karrahi','zinger','biryani','chekin','beef','rice','cold drink','coleslaw','qorma']\n",
    "print(friends_foods)\n",
    "friends_foods.append('white qorma')\n",
    "print(friends_foods)\n"
   ]
  },
  {
   "cell_type": "code",
   "execution_count": 35,
   "id": "7dd5e5cf",
   "metadata": {},
   "outputs": [],
   "source": [
    "my_fav_foods='rice'\n",
    "friends_foods=['karrahi','zinger','biryani','chekin','beef','rice','cold drink','coleslaw','qorma']\n",
    "for fav_foods in friends_foods:\n",
    "    if my_fav_foods==friends_foods:\n",
    "        print('My friend’s favorite foods are ')\n",
    "        "
   ]
  },
  {
   "cell_type": "code",
   "execution_count": null,
   "id": "99b01734",
   "metadata": {},
   "outputs": [],
   "source": [
    "\n",
    "friends_foods=['karrahi','zinger','biryani','chekin','beef','rice','cold drink','coleslaw','qorma']\n",
    "for fav_foods in friends_foods:\n",
    "    if my_fav_foods==friends_foods:\n",
    "        print('My friend’s favorite foods are ')\n",
    "        "
   ]
  }
 ],
 "metadata": {
  "kernelspec": {
   "display_name": "Python 3 (ipykernel)",
   "language": "python",
   "name": "python3"
  },
  "language_info": {
   "codemirror_mode": {
    "name": "ipython",
    "version": 3
   },
   "file_extension": ".py",
   "mimetype": "text/x-python",
   "name": "python",
   "nbconvert_exporter": "python",
   "pygments_lexer": "ipython3",
   "version": "3.9.12"
  }
 },
 "nbformat": 4,
 "nbformat_minor": 5
}
