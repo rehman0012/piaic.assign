{
 "cells": [
  {
   "cell_type": "code",
   "execution_count": 1,
   "id": "3e0b7ea7",
   "metadata": {},
   "outputs": [
    {
     "name": "stdout",
     "output_type": "stream",
     "text": [
      "[{'name': 'sami', 'class_AI': {'name': 'AI', 'marks': {'quiz1': 40, 'quiz2': 45, 'mid': 50, 'final': 55}}, 'class_CNC': {'name': 'CNCC', 'marks': {'quiz1': 41, 'quiz2': 46, 'mid': 51, 'final': 56}}}]\n"
     ]
    }
   ],
   "source": [
    "students=[]\n",
    "class1={\"name\":\"AI\",\n",
    "       \"marks\":{\"quiz1\":40,\"quiz2\":45,\"mid\":50,\"final\":55}\n",
    "}\n",
    "class2={\"name\":\"CNCC\",\n",
    "       \"marks\":{\"quiz1\":41,\"quiz2\":46,\"mid\":51,\"final\":56}\n",
    "}\n",
    "student_1001={\n",
    "    \"name\":\"sami\",\n",
    "    \"class_AI\":class1,\n",
    "    \"class_CNC\":class2\n",
    "}\n",
    "students.append(student_1001)\n",
    "print(students)"
   ]
  },
  {
   "cell_type": "code",
   "execution_count": null,
   "id": "ddb458f5",
   "metadata": {},
   "outputs": [],
   "source": [
    "students=[]\n",
    "class1={\"name\":\"AI\",\n",
    "       \"marks\":{\"quiz1\":42,\"quiz2\":46,\"mid\":52,\"final\":56}\n",
    "}\n",
    "class2={\"name\":\"CNCC\",\n",
    "       \"marks\":{\"quiz1\":45,\"quiz2\":47,\"mid\":54,\"final\":57}\n",
    "}\n",
    "student_1002={\n",
    "    \"name\":\"Rehman\",\n",
    "    \"class_AI\":class1,\n",
    "    \"class_CNC\":class2\n",
    "}\n",
    "students.append(student_1002)\n",
    "print(students)"
   ]
  },
  {
   "cell_type": "code",
   "execution_count": 2,
   "id": "fe57bd94",
   "metadata": {},
   "outputs": [
    {
     "name": "stdout",
     "output_type": "stream",
     "text": [
      "[{'name': 'abid', 'class_AI': {'name': 'AI', 'marks': {'quiz1': 45, 'quiz2': 50, 'mid': 55, 'final': 60}}, 'class_CNC': {'name': 'CNCC', 'marks': {'quiz1': 46, 'quiz2': 51, 'mid': 56, 'final': 61}}}]\n"
     ]
    }
   ],
   "source": [
    "students=[]\n",
    "class1={\"name\":\"AI\",\n",
    "       \"marks\":{\"quiz1\":45,\"quiz2\":50,\"mid\":55,\"final\":60}\n",
    "}\n",
    "class2={\"name\":\"CNCC\",\n",
    "       \"marks\":{\"quiz1\":46,\"quiz2\":51,\"mid\":56,\"final\":61}\n",
    "}\n",
    "student_1003={\n",
    "    \"name\":\"abid\",\n",
    "    \"class_AI\":class1,\n",
    "    \"class_CNC\":class2\n",
    "}\n",
    "students.append(student_1003)\n",
    "print(students)"
   ]
  },
  {
   "cell_type": "code",
   "execution_count": null,
   "id": "3e2a6e66",
   "metadata": {},
   "outputs": [],
   "source": [
    "students=[]\n",
    "class1={\"name\":\"AI\",\n",
    "       \"marks\":{\"quiz1\":30,\"quiz2\":35,\"mid\":40,\"final\":45}\n",
    "}\n",
    "class2={\"name\":\"CNCC\",\n",
    "       \"marks\":{\"quiz1\":31,\"quiz2\":36,\"mid\":41,\"final\":46}\n",
    "}\n",
    "student_1004={\n",
    "    \"name\":\"ayesha\",\n",
    "    \"class_AI\":class1,\n",
    "    \"class_CNC\":class2\n",
    "}\n",
    "students.append(student_1004)\n",
    "print(students)"
   ]
  },
  {
   "cell_type": "code",
   "execution_count": 3,
   "id": "885e329e",
   "metadata": {},
   "outputs": [
    {
     "name": "stdout",
     "output_type": "stream",
     "text": [
      "[{'name': 'Ameena', 'class_AI': {'name': 'AI', 'marks': {'quiz1': 60, 'quiz2': 65, 'mid': 70, 'final': 75}}, 'class_CNC': {'name': 'CNCC', 'marks': {'quiz1': 61, 'quiz2': 66, 'mid': 71, 'final': 76}}}]\n"
     ]
    }
   ],
   "source": [
    "students=[]\n",
    "class1={\"name\":\"AI\",\n",
    "       \"marks\":{\"quiz1\":60,\"quiz2\":65,\"mid\":70,\"final\":75}\n",
    "}\n",
    "class2={\"name\":\"CNCC\",\n",
    "       \"marks\":{\"quiz1\":61,\"quiz2\":66,\"mid\":71,\"final\":76}\n",
    "}\n",
    "student_1005={\n",
    "    \"name\":\"Ameena\",\n",
    "    \"class_AI\":class1,\n",
    "    \"class_CNC\":class2\n",
    "}\n",
    "students.append(student_1005)\n",
    "print(students)"
   ]
  },
  {
   "cell_type": "code",
   "execution_count": null,
   "id": "9aaf0ddd",
   "metadata": {},
   "outputs": [],
   "source": [
    "students=[]\n",
    "class1={\"name\":\"AI\",\n",
    "       \"marks\":{\"quiz1\":42,\"quiz2\":47,\"mid\":59,\"final\":60}\n",
    "}\n",
    "class2={\"name\":\"CNCC\",\n",
    "       \"marks\":{\"quiz1\":45,\"quiz2\":50,\"mid\":60,\"final\":70}\n",
    "}\n",
    "student_1006={\n",
    "    \"name\":\"sobia\",\n",
    "    \"class_AI\":class1,\n",
    "    \"class_CNC\":class2\n",
    "}\n",
    "students.append(student_1006)\n",
    "print(students)"
   ]
  },
  {
   "cell_type": "code",
   "execution_count": null,
   "id": "7acc2cc6",
   "metadata": {},
   "outputs": [],
   "source": [
    "students=[]\n",
    "class1={\"name\":\"AI\",\n",
    "       \"marks\":{\"quiz1\":43,\"quiz2\":45,\"mid\":54,\"final\":53}\n",
    "}\n",
    "class2={\"name\":\"CNCC\",\n",
    "       \"marks\":{\"quiz1\":44,\"quiz2\":47,\"mid\":57,\"final\":54}\n",
    "}\n",
    "student_1007={\n",
    "    \"name\":\"zubair\",\n",
    "    \"class_AI\":class1,\n",
    "    \"class_CNC\":class2\n",
    "}\n",
    "students.append(student_1007)\n",
    "print(students)"
   ]
  },
  {
   "cell_type": "code",
   "execution_count": 4,
   "id": "c579cb59",
   "metadata": {},
   "outputs": [
    {
     "name": "stdout",
     "output_type": "stream",
     "text": [
      "[{'name': 'asfaq', 'class_AI': {'name': 'AI', 'marks': {'quiz1': 70, 'quiz2': 75, 'mid': 80, 'final': 85}}, 'class_CNC': {'name': 'CNCC', 'marks': {'quiz1': 41, 'quiz2': 46, 'mid': 51, 'final': 56}}}]\n"
     ]
    }
   ],
   "source": [
    "students=[]\n",
    "class1={\"name\":\"AI\",\n",
    "       \"marks\":{\"quiz1\":70,\"quiz2\":75,\"mid\":80,\"final\":85}\n",
    "}\n",
    "class2={\"name\":\"CNCC\",\n",
    "       \"marks\":{\"quiz1\":41,\"quiz2\":46,\"mid\":51,\"final\":56}\n",
    "}\n",
    "student_1008={\n",
    "    \"name\":\"asfaq\",\n",
    "    \"class_AI\":class1,\n",
    "    \"class_CNC\":class2\n",
    "}\n",
    "students.append(student_1008)\n",
    "print(students)"
   ]
  },
  {
   "cell_type": "code",
   "execution_count": 5,
   "id": "a5521c8b",
   "metadata": {},
   "outputs": [
    {
     "name": "stdout",
     "output_type": "stream",
     "text": [
      "[{'name': 'noman', 'class_AI': {'name': 'AI', 'marks': {'quiz1': 90, 'quiz2': 85, 'mid': 70, 'final': 65}}, 'class_CNC': {'name': 'CNCC', 'marks': {'quiz1': 81, 'quiz2': 76, 'mid': 81, 'final': 66}}}]\n"
     ]
    }
   ],
   "source": [
    "students=[]\n",
    "class1={\"name\":\"AI\",\n",
    "       \"marks\":{\"quiz1\":90,\"quiz2\":85,\"mid\":70,\"final\":65}\n",
    "}\n",
    "class2={\"name\":\"CNCC\",\n",
    "       \"marks\":{\"quiz1\":81,\"quiz2\":76,\"mid\":81,\"final\":66}\n",
    "}\n",
    "student_1009={\n",
    "    \"name\":\"noman\",\n",
    "    \"class_AI\":class1,\n",
    "    \"class_CNC\":class2\n",
    "}\n",
    "students.append(student_1009)\n",
    "print(students)"
   ]
  },
  {
   "cell_type": "code",
   "execution_count": 6,
   "id": "785c6ef5",
   "metadata": {},
   "outputs": [
    {
     "name": "stdout",
     "output_type": "stream",
     "text": [
      "[{'name': 'ali', 'class_AI': {'name': 'AI', 'marks': {'quiz1': 55, 'quiz2': 65, 'mid': 70, 'final': 85}}, 'class_CNC': {'name': 'CNCC', 'marks': {'quiz1': 71, 'quiz2': 66, 'mid': 56, 'final': 96}}}]\n"
     ]
    }
   ],
   "source": [
    "students=[]\n",
    "class1={\"name\":\"AI\",\n",
    "       \"marks\":{\"quiz1\":55,\"quiz2\":65,\"mid\":70,\"final\":85}\n",
    "}\n",
    "class2={\"name\":\"CNCC\",\n",
    "       \"marks\":{\"quiz1\":71,\"quiz2\":66,\"mid\":56,\"final\":96}\n",
    "}\n",
    "student_10010={\n",
    "    \"name\":\"ali\",\n",
    "    \"class_AI\":class1,\n",
    "    \"class_CNC\":class2\n",
    "}\n",
    "students.append(student_10010)\n",
    "print(students)\n"
   ]
  }
 ],
 "metadata": {
  "kernelspec": {
   "display_name": "Python 3 (ipykernel)",
   "language": "python",
   "name": "python3"
  },
  "language_info": {
   "codemirror_mode": {
    "name": "ipython",
    "version": 3
   },
   "file_extension": ".py",
   "mimetype": "text/x-python",
   "name": "python",
   "nbconvert_exporter": "python",
   "pygments_lexer": "ipython3",
   "version": "3.9.12"
  }
 },
 "nbformat": 4,
 "nbformat_minor": 5
}
